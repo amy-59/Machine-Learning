{
 "cells": [
  {
   "cell_type": "markdown",
   "id": "67c73786",
   "metadata": {},
   "source": [
    "<h1 align = 'center'> GD Regressor </h1>"
   ]
  },
  {
   "cell_type": "code",
   "execution_count": 1,
   "id": "7e47b4f4",
   "metadata": {},
   "outputs": [],
   "source": [
    "from sklearn.datasets import make_regression\n",
    "import pandas as pd\n",
    "import numpy as np\n",
    "import matplotlib.pyplot as plt\n",
    "import seaborn as sns"
   ]
  },
  {
   "cell_type": "code",
   "execution_count": 2,
   "id": "9e0799c1",
   "metadata": {},
   "outputs": [],
   "source": [
    "X,y = make_regression(n_samples=100, n_features=1, n_informative=1, n_targets=1, noise=20)"
   ]
  },
  {
   "cell_type": "code",
   "execution_count": 3,
   "id": "03671ba2",
   "metadata": {},
   "outputs": [
    {
     "data": {
      "text/plain": [
       "<matplotlib.collections.PathCollection at 0x20d8a1242e0>"
      ]
     },
     "execution_count": 3,
     "metadata": {},
     "output_type": "execute_result"
    },
    {
     "data": {
      "image/png": "[encoded data removed]",
      "text/plain": [
       "<Figure size 640x480 with 1 Axes>"
      ]
     },
     "metadata": {},
     "output_type": "display_data"
    }
   ],
   "source": [
    "plt.scatter(X,y)"
   ]
  },
  {
   "cell_type": "markdown",
   "id": "ee3ebdf0",
   "metadata": {},
   "source": [
    "### OSL"
   ]
  },
  {
   "cell_type": "code",
   "execution_count": 4,
   "id": "de831f8f",
   "metadata": {},
   "outputs": [],
   "source": [
    "from sklearn.linear_model import LinearRegression"
   ]
  },
  {
   "cell_type": "code",
   "execution_count": 5,
   "id": "7d5ce3ab",
   "metadata": {},
   "outputs": [],
   "source": [
    "lr = LinearRegression()"
   ]
  },
  {
   "cell_type": "code",
   "execution_count": 6,
   "id": "14c47a08",
   "metadata": {},
   "outputs": [
    {
     "data": {
      "text/plain": [
       "LinearRegression()"
      ]
     },
     "execution_count": 6,
     "metadata": {},
     "output_type": "execute_result"
    }
   ],
   "source": [
    "lr.fit(X,y)"
   ]
  },
  {
   "cell_type": "code",
   "execution_count": 7,
   "id": "4bed12a8",
   "metadata": {},
   "outputs": [
    {
     "data": {
      "text/plain": [
       "array([49.20885287])"
      ]
     },
     "execution_count": 7,
     "metadata": {},
     "output_type": "execute_result"
    }
   ],
   "source": [
    "lr.coef_"
   ]
  },
  {
   "cell_type": "code",
   "execution_count": 8,
   "id": "7c19b819",
   "metadata": {},
   "outputs": [
    {
     "data": {
      "text/plain": [
       "0.5379496317366036"
      ]
     },
     "execution_count": 8,
     "metadata": {},
     "output_type": "execute_result"
    }
   ],
   "source": [
    "lr.intercept_"
   ]
  },
  {
   "cell_type": "code",
   "execution_count": 9,
   "id": "67c6034c",
   "metadata": {},
   "outputs": [],
   "source": [
    "m = 29.93"
   ]
  },
  {
   "cell_type": "code",
   "execution_count": 10,
   "id": "0211f85a",
   "metadata": {},
   "outputs": [],
   "source": [
    "class GDRegressor:\n",
    "    def __init__(self, learning_rate, epochs):\n",
    "        self.m = 29.93\n",
    "        self.b = -120\n",
    "        self.lr = learning_rate\n",
    "        self.epochs = epochs\n",
    "        \n",
    "    def fit(self,X,y):\n",
    "        \n",
    "        ## Calculate the b using GD:\n",
    "        for i in range(self.epochs):\n",
    "            loss_slop = -2 * np.sum(y - self.m * X.ravel() -self.b)\n",
    "            self.b= self.b - (loss_slop *self.lr) # bnew = bold - n*slop\n",
    "            print(loss_slop, self.b)\n",
    "        print(self.b)"
   ]
  },
  {
   "cell_type": "code",
   "execution_count": 11,
   "id": "98f5d24d",
   "metadata": {},
   "outputs": [
    {
     "name": "stdout",
     "output_type": "stream",
     "text": [
      "-24158.865099639144 2295.8865099639147\n",
      "459018.4368931438 -43605.957179350466\n",
      "-8721350.300969733 828529.0729176229\n",
      "165705655.71842498 -15742036.498924876\n",
      "-3148407458.650075 299098709.36608267\n",
      "59819741714.351425 -5682875462.069059\n",
      "-1136575092572.677 107974633795.19864\n",
      "21594926758880.867 -2051518042092.8882\n",
      "-410303608418736.44 38978842799780.76\n",
      "7795768559955994.0 -740598013195818.8\n",
      "-740598013195818.8\n"
     ]
    }
   ],
   "source": [
    "gd = GDRegressor(0.1,10)\n",
    "gd.fit(X,y)"
   ]
  },
  {
   "cell_type": "markdown",
   "id": "c32b9cf5",
   "metadata": {},
   "source": [
    "- This is happen because learning rate is too high\n",
    "- So lets change learning rate to 0.01"
   ]
  },
  {
   "cell_type": "code",
   "execution_count": 12,
   "id": "8ca159fb",
   "metadata": {},
   "outputs": [
    {
     "name": "stdout",
     "output_type": "stream",
     "text": [
      "-24158.865099639144 121.58865099639144\n",
      "24158.865099639144 -120.0\n",
      "-24158.865099639144 121.58865099639144\n",
      "24158.865099639144 -120.0\n",
      "-24158.865099639144 121.58865099639144\n",
      "24158.865099639144 -120.0\n",
      "-24158.865099639144 121.58865099639144\n",
      "24158.865099639144 -120.0\n",
      "-24158.865099639144 121.58865099639144\n",
      "24158.865099639144 -120.0\n",
      "-120.0\n"
     ]
    }
   ],
   "source": [
    "gd = GDRegressor(0.01,10)\n",
    "gd.fit(X,y)"
   ]
  },
  {
   "cell_type": "markdown",
   "id": "becdc483",
   "metadata": {},
   "source": [
    "- As we can sevalue of b is stuck between 118 to -119\n",
    "- So lets change learning rate= 0.001 and epochs = 100"
   ]
  },
  {
   "cell_type": "code",
   "execution_count": 13,
   "id": "9a27a9da",
   "metadata": {},
   "outputs": [
    {
     "name": "stdout",
     "output_type": "stream",
     "text": [
      "-24158.865099639144 -95.84113490036086\n",
      "-19327.092079711314 -76.51404282064954\n",
      "-15461.673663769052 -61.05236915688049\n",
      "-12369.338931015245 -48.68303022586524\n",
      "-9895.471144812194 -38.78755908105305\n",
      "-7916.376915849755 -30.87118216520329\n",
      "-6333.101532679802 -24.53808063252349\n",
      "-5066.481226143843 -19.471599406379646\n",
      "-4053.1849809150744 -15.418414425464572\n",
      "-3242.54798473206 -12.175866440732513\n",
      "-2594.0383877856475 -9.581828052946864\n",
      "-2075.230710228518 -7.506597342718346\n",
      "-1660.1845681828145 -5.846412774535532\n",
      "-1328.147654546252 -4.518265119989279\n",
      "-1062.518123637001 -3.4557469963522784\n",
      "-850.0144989096008 -2.605732497442678\n",
      "-680.0115991276808 -1.9257208983149972\n",
      "-544.0092793021445 -1.3817116190128527\n",
      "-435.20742344171583 -0.9465041955711369\n",
      "-348.16593875337253 -0.5983382568177643\n",
      "-278.532751002698 -0.31980550581506634\n",
      "-222.82620080215844 -0.09697930501290788\n",
      "-178.26096064172677 0.0812816556288189\n",
      "-142.60876851338145 0.22389042414220034\n",
      "-114.08701481070521 0.33797743895290555\n",
      "-91.26961184856403 0.4292470508014696\n",
      "-73.01568947885129 0.5022627402803208\n",
      "-58.412551583080905 0.5606752918634017\n",
      "-46.73004126646475 0.6074053331298664\n",
      "-37.384033013171965 0.6447893661430384\n",
      "-29.90722641053759 0.674696592553576\n",
      "-23.925781128430074 0.698622373682006\n",
      "-19.140624902743895 0.7177629985847499\n",
      "-15.312499922195116 0.733075498506945\n",
      "-12.249999937756176 0.7453254984447012\n",
      "-9.799999950205066 0.7551254983949063\n",
      "-7.839999960164013 0.7629654983550703\n",
      "-6.271999968131027 0.7692374983232013\n",
      "-5.017599974504949 0.7742550982977062\n",
      "-4.01407997960375 0.77826917827731\n",
      "-3.2112639836830628 0.7814804422609931\n",
      "-2.569011186946549 0.7840494534479396\n",
      "-2.055208949557243 0.7861046623974969\n",
      "-1.6441671596456757 0.7877488295571425\n",
      "-1.315333727716558 0.7890641632848591\n",
      "-1.052266982173336 0.7901164302670324\n",
      "-0.8418135857384756 0.7909582438527708\n",
      "-0.6734508685910754 0.7916316947213619\n",
      "-0.5387606948729626 0.7921704554162348\n",
      "-0.4310085558982455 0.792601463972133\n",
      "-0.3448068447185477 0.7929462708168515\n",
      "-0.2758454757749056 0.7932221162926264\n",
      "-0.22067638061998274 0.7934427926732464\n",
      "-0.17654110449579985 0.7936193337777422\n",
      "-0.14123288359679043 0.793760566661339\n",
      "-0.11298630687726074 0.7938735529682163\n",
      "-0.09038904550203863 0.7939639420137183\n",
      "-0.07231123640148951 0.7940362532501198\n",
      "-0.05784898912118308 0.794094102239241\n",
      "-0.04627919129673064 0.7941403814305378\n",
      "-0.037023353037722195 0.7941774047835755\n",
      "-0.029618682430123222 0.7942070234660056\n",
      "-0.023694945944089163 0.7942307184119497\n",
      "-0.018955956755061898 0.7942496743687048\n",
      "-0.015164765404213298 0.794264839134109\n",
      "-0.012131812323454838 0.7942769709464323\n",
      "-0.009705449858742998 0.7942866763962911\n",
      "-0.00776435988706492 0.7942944407561782\n",
      "-0.006211487909643765 0.7943006522440879\n",
      "-0.004969190327429374 0.7943056214344153\n",
      "-0.003975352261984089 0.7943095967866772\n",
      "-0.0031802818097474983 0.794312777068487\n",
      "-0.002544225447880244 0.7943153212939349\n",
      "-0.0020353803580657193 0.7943173566742929\n",
      "-0.0016283042866693798 0.7943189849785796\n",
      "-0.0013026434291250055 0.7943202876220087\n",
      "-0.0010421147435977218 0.7943213297367523\n",
      "-0.0008336917946225597 0.7943221634285469\n",
      "-0.0006669534359220464 0.7943228303819828\n",
      "-0.0005335627486431349 0.7943233639447315\n",
      "-0.0004268501989432849 0.7943237907949304\n",
      "-0.00034148015888035843 0.7943241322750894\n",
      "-0.00027318412731380803 0.7943244054592167\n",
      "-0.00021854730185077997 0.7943246240065185\n",
      "-0.0001748378413308771 0.7943247988443598\n",
      "-0.00013987027333906 0.7943249387146332\n",
      "-0.0001118962185104877 0.7943250506108517\n",
      "-8.951697490733324e-05 0.7943251401278266\n",
      "-7.16135798906059e-05 0.7943252117414065\n",
      "-5.729086375616532e-05 0.7943252690322702\n",
      "-4.58326910623974e-05 0.7943253148649613\n",
      "-3.6666152809061714e-05 0.794325351531114\n",
      "-2.9332922380831405e-05 0.7943253808640365\n",
      "-2.3466337649047375e-05 0.7943254043303741\n",
      "-1.8773070451061358e-05 0.7943254231034446\n",
      "-1.5018456267057445e-05 0.7943254381219008\n",
      "-1.2014764775081233e-05 0.7943254501366656\n",
      "-9.611811938370352e-06 0.7943254597484775\n",
      "-7.689449608161425e-06 0.7943254674379271\n",
      "-6.151559645672933e-06 0.7943254735894867\n",
      "0.7943254735894867\n"
     ]
    }
   ],
   "source": [
    "gd = GDRegressor(0.001,100)\n",
    "gd.fit(X,y)"
   ]
  },
  {
   "cell_type": "code",
   "execution_count": 14,
   "id": "26681a50",
   "metadata": {},
   "outputs": [
    {
     "name": "stdout",
     "output_type": "stream",
     "text": [
      "[49.20885287] 0.5379496317366036\n"
     ]
    }
   ],
   "source": [
    "print(lr.coef_, lr.intercept_)"
   ]
  },
  {
   "cell_type": "markdown",
   "id": "1d80f16f",
   "metadata": {},
   "source": [
    "- As we can see for proper iteration and learning rate our we got value -0.665 for intercept"
   ]
  },
  {
   "cell_type": "code",
   "execution_count": null,
   "id": "167fc4b0",
   "metadata": {},
   "outputs": [],
   "source": []
  }
 ],
 "metadata": {
  "kernelspec": {
   "display_name": "Python 3 (ipykernel)",
   "language": "python",
   "name": "python3"
  },
  "language_info": {
   "codemirror_mode": {
    "name": "ipython",
    "version": 3
   },
   "file_extension": ".py",
   "mimetype": "text/x-python",
   "name": "python",
   "nbconvert_exporter": "python",
   "pygments_lexer": "ipython3",
   "version": "3.9.13"
  }
 },
 "nbformat": 4,
 "nbformat_minor": 5
}
