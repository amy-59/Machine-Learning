{
 "cells": [
  {
   "cell_type": "markdown",
   "id": "4614d855",
   "metadata": {},
   "source": [
    "<h1 align = 'center'> Ridge Regression for Gradient descent</h1>"
   ]
  },
  {
   "cell_type": "code",
   "execution_count": 1,
   "id": "5f37a063",
   "metadata": {},
   "outputs": [],
   "source": [
    "import pandas as pd\n",
    "import numpy as np\n",
    "import seaborn as sns\n",
    "import matplotlib.pyplot as plt\n",
    "from sklearn.datasets import load_diabetes"
   ]
  },
  {
   "cell_type": "code",
   "execution_count": 2,
   "id": "3ecf6cd2",
   "metadata": {},
   "outputs": [],
   "source": [
    "X,y = load_diabetes(return_X_y=True)"
   ]
  },
  {
   "cell_type": "markdown",
   "id": "1011431d",
   "metadata": {},
   "source": [
    "### Train test split"
   ]
  },
  {
   "cell_type": "code",
   "execution_count": 3,
   "id": "e1f03a7b",
   "metadata": {},
   "outputs": [],
   "source": [
    "from sklearn.model_selection import train_test_split"
   ]
  },
  {
   "cell_type": "code",
   "execution_count": 4,
   "id": "3b9fcb6b",
   "metadata": {},
   "outputs": [],
   "source": [
    "X_train,X_test,y_train,y_test = train_test_split(X,y, test_size=0.2, random_state=2) "
   ]
  },
  {
   "cell_type": "markdown",
   "id": "e84e5bbb",
   "metadata": {},
   "source": [
    "### Gradieent Descent"
   ]
  },
  {
   "cell_type": "code",
   "execution_count": 5,
   "id": "8ba8fb7e",
   "metadata": {},
   "outputs": [],
   "source": [
    "from sklearn.linear_model import SGDRegressor"
   ]
  },
  {
   "cell_type": "code",
   "execution_count": 6,
   "id": "e7a850e5",
   "metadata": {},
   "outputs": [],
   "source": [
    "reg = SGDRegressor(penalty='l2',max_iter=500, eta0=0.1, learning_rate='constant', alpha=0.01)"
   ]
  },
  {
   "cell_type": "code",
   "execution_count": 7,
   "id": "d62c5597",
   "metadata": {},
   "outputs": [],
   "source": [
    "reg.fit(X_train,y_train)\n",
    "y_pred = reg.predict(X_test)"
   ]
  },
  {
   "cell_type": "markdown",
   "id": "56518ef9",
   "metadata": {},
   "source": [
    "#### Performance parameter"
   ]
  },
  {
   "cell_type": "code",
   "execution_count": 8,
   "id": "1d5c6f76",
   "metadata": {},
   "outputs": [],
   "source": [
    "from sklearn.metrics import r2_score"
   ]
  },
  {
   "cell_type": "code",
   "execution_count": 9,
   "id": "49c4effc",
   "metadata": {},
   "outputs": [
    {
     "name": "stdout",
     "output_type": "stream",
     "text": [
      "r2_score 0.2756595877890704\n",
      "Intercept =  [162.15776632]\n",
      "Coefficent =  [ 38.23345121  -7.86379619 138.24150359 102.0581752   28.37024225\n",
      "  14.13048643 -79.72687713  72.67285925 132.83533242  68.72074461]\n"
     ]
    }
   ],
   "source": [
    "print(\"r2_score\",r2_score(y_test,y_pred))\n",
    "print(\"Intercept = \", reg.intercept_)\n",
    "print(\"Coefficent = \", reg.coef_)"
   ]
  },
  {
   "cell_type": "markdown",
   "id": "d6ae6000",
   "metadata": {},
   "source": [
    "### Ridge Regularization "
   ]
  },
  {
   "cell_type": "code",
   "execution_count": 10,
   "id": "737135ed",
   "metadata": {},
   "outputs": [],
   "source": [
    "from sklearn.linear_model import Ridge"
   ]
  },
  {
   "cell_type": "code",
   "execution_count": 11,
   "id": "18eef846",
   "metadata": {},
   "outputs": [],
   "source": [
    "ridge = Ridge(alpha=0.001, max_iter=500, solver='sparse_cg')\n",
    "ridge.fit(X_train,y_train)\n",
    "y_pred1 = ridge.predict(X_test)"
   ]
  },
  {
   "cell_type": "code",
   "execution_count": 12,
   "id": "634e2456",
   "metadata": {},
   "outputs": [
    {
     "name": "stdout",
     "output_type": "stream",
     "text": [
      "r2_score 0.4408664179034313\n",
      "Intercept =  151.88537326174122\n",
      "Coefficent =  [  -8.76358294 -204.32112465  518.37172901  339.97538494 -787.69076592\n",
      "  475.27471831  106.78653964  114.6320632   819.73954257   52.87210013]\n"
     ]
    }
   ],
   "source": [
    "print(\"r2_score\",r2_score(y_test,y_pred1))\n",
    "print(\"Intercept = \", ridge.intercept_)\n",
    "print(\"Coefficent = \", ridge.coef_)"
   ]
  },
  {
   "cell_type": "markdown",
   "id": "3e0683a4",
   "metadata": {},
   "source": [
    "### Custom Class"
   ]
  },
  {
   "cell_type": "code",
   "execution_count": 13,
   "id": "b92210a6",
   "metadata": {},
   "outputs": [],
   "source": [
    "class RidgeGD:\n",
    "    def __init__(self,epochs, learning_rate, alpha):\n",
    "        self.learning_rate = learning_rate\n",
    "        self.alpha = alpha\n",
    "        self.epochs = epochs\n",
    "        self.coef_ = None\n",
    "        self.intercept_ = None\n",
    "        \n",
    "    def fit(self,X_train,y_train):\n",
    "        self.coef_ = np.ones(X_train.shape[1]) \n",
    "        self. intercept_ = 0\n",
    "        \n",
    "        thetha = np.insert(self.coef_,0,self.intercept_)\n",
    "        X_train = np.insert(X_train, 0, 1, axis=1)\n",
    "        \n",
    "        for i in range(self.epochs):\n",
    "            # par_derv (w) = X^T. X. W - Y. X^T - labda.W\n",
    "            thetha_der = np.dot(X_train.T, X_train).dot(thetha) - np.dot(X_train.T,y_train) + self.alpha *thetha\n",
    "            \n",
    "            # Wnew = Wold - learning_rate. par_derv(W)\n",
    "            thetha = thetha - self.learning_rate * thetha_der\n",
    "            \n",
    "            self.coef_ = thetha[1:]\n",
    "            self.intercept_ = thetha[0]\n",
    "            \n",
    "        \n",
    "        \n",
    "    def predict(self,X_test):\n",
    "        return np.dot(X_test,self.coef_) +self.intercept_"
   ]
  },
  {
   "cell_type": "code",
   "execution_count": 14,
   "id": "95f92f8c",
   "metadata": {},
   "outputs": [],
   "source": [
    "gdRid = RidgeGD(epochs= 500, learning_rate=0.005, alpha=0.01)"
   ]
  },
  {
   "cell_type": "code",
   "execution_count": 15,
   "id": "18be3dad",
   "metadata": {},
   "outputs": [],
   "source": [
    "gdRid.fit(X_train,y_train)\n",
    "y_pred3 = gdRid.predict(X_test)"
   ]
  },
  {
   "cell_type": "code",
   "execution_count": 16,
   "id": "290943cb",
   "metadata": {},
   "outputs": [
    {
     "name": "stdout",
     "output_type": "stream",
     "text": [
      "r2_score 0.454115882438339\n",
      "Intercept =  152.0249746788669\n",
      "Coefficent =  [  20.01247474 -161.141062    475.97643987  316.12142184  -33.20469735\n",
      " -107.17725896 -192.94476166  107.05651568  434.39095582  103.72376158]\n"
     ]
    }
   ],
   "source": [
    "print(\"r2_score\",r2_score(y_test,y_pred3))\n",
    "print(\"Intercept = \", gdRid.intercept_)\n",
    "print(\"Coefficent = \", gdRid.coef_)"
   ]
  }
 ],
 "metadata": {
  "kernelspec": {
   "display_name": "Python 3 (ipykernel)",
   "language": "python",
   "name": "python3"
  },
  "language_info": {
   "codemirror_mode": {
    "name": "ipython",
    "version": 3
   },
   "file_extension": ".py",
   "mimetype": "text/x-python",
   "name": "python",
   "nbconvert_exporter": "python",
   "pygments_lexer": "ipython3",
   "version": "3.9.13"
  }
 },
 "nbformat": 4,
 "nbformat_minor": 5
}
