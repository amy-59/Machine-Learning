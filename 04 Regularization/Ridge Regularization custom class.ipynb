{
 "cells": [
  {
   "cell_type": "markdown",
   "id": "d812261a",
   "metadata": {},
   "source": [
    "<h1 align ='center'> Ridge Regularization custom class</h1>"
   ]
  },
  {
   "cell_type": "code",
   "execution_count": 1,
   "id": "2c4782fe",
   "metadata": {},
   "outputs": [],
   "source": [
    "import pandas as pd\n",
    "import numpy as np\n",
    "import matplotlib.pyplot as plt\n",
    "import seaborn as sns\n",
    "from sklearn.datasets import load_diabetes"
   ]
  },
  {
   "cell_type": "code",
   "execution_count": 2,
   "id": "ffe6c269",
   "metadata": {},
   "outputs": [],
   "source": [
    "X, y= load_diabetes(return_X_y=True)"
   ]
  },
  {
   "cell_type": "code",
   "execution_count": 3,
   "id": "695737d9",
   "metadata": {},
   "outputs": [],
   "source": [
    "from sklearn.model_selection import train_test_split"
   ]
  },
  {
   "cell_type": "code",
   "execution_count": 4,
   "id": "632d5c15",
   "metadata": {},
   "outputs": [],
   "source": [
    "X_train, X_test, y_train, y_test = train_test_split(X,y, test_size=0.2, random_state=2)"
   ]
  },
  {
   "cell_type": "code",
   "execution_count": 5,
   "id": "75f1f468",
   "metadata": {},
   "outputs": [],
   "source": [
    "from sklearn.linear_model import LinearRegression, Ridge"
   ]
  },
  {
   "cell_type": "code",
   "execution_count": 6,
   "id": "19f6316e",
   "metadata": {},
   "outputs": [],
   "source": [
    "lr = LinearRegression()"
   ]
  },
  {
   "cell_type": "code",
   "execution_count": 7,
   "id": "a3cbeb9e",
   "metadata": {},
   "outputs": [
    {
     "data": {
      "text/plain": [
       "LinearRegression()"
      ]
     },
     "execution_count": 7,
     "metadata": {},
     "output_type": "execute_result"
    }
   ],
   "source": [
    "lr.fit(X_train, y_train)"
   ]
  },
  {
   "cell_type": "code",
   "execution_count": 8,
   "id": "cf910b32",
   "metadata": {},
   "outputs": [],
   "source": [
    "ridge = Ridge(alpha= 0.1, solver='cholesky')"
   ]
  },
  {
   "cell_type": "code",
   "execution_count": 9,
   "id": "2cdabbe3",
   "metadata": {},
   "outputs": [
    {
     "data": {
      "text/plain": [
       "Ridge(alpha=0.1, solver='cholesky')"
      ]
     },
     "execution_count": 9,
     "metadata": {},
     "output_type": "execute_result"
    }
   ],
   "source": [
    "ridge.fit(X_train, y_train)"
   ]
  },
  {
   "cell_type": "code",
   "execution_count": 10,
   "id": "5bd2b6ce",
   "metadata": {},
   "outputs": [],
   "source": [
    "y_pred = ridge.predict(X_test)"
   ]
  },
  {
   "cell_type": "code",
   "execution_count": 11,
   "id": "bab15e25",
   "metadata": {},
   "outputs": [],
   "source": [
    "from sklearn.metrics import r2_score"
   ]
  },
  {
   "cell_type": "code",
   "execution_count": 25,
   "id": "7b792b1e",
   "metadata": {},
   "outputs": [
    {
     "name": "stdout",
     "output_type": "stream",
     "text": [
      "[   6.64275308 -172.24216584  485.52387163  314.68212174  -72.93932312\n",
      "  -80.59005344 -174.46651489   83.61665316  484.36328537   73.58415414]\n"
     ]
    }
   ],
   "source": [
    "r2_score(y_test,y_pred)\n",
    "print(ridge.coef_)"
   ]
  },
  {
   "cell_type": "code",
   "execution_count": 22,
   "id": "d87aea92",
   "metadata": {},
   "outputs": [],
   "source": [
    "class Ridge_regularization:\n",
    "    def __init__(self, alpha = 0.1):\n",
    "        self.alpha = alpha\n",
    "        self.intercept_ = None\n",
    "        self.coef_ = None\n",
    "        \n",
    "    def fit(self, X_train,y_train):\n",
    "        \n",
    "        #W = (X^T . X +labda. I )^-1 X^T. Y \n",
    "        X_train = np.insert(X_train,0,1,axis= 1)\n",
    "        I = np.identity(X_train.shape[1]) #I shape of (n*n)\n",
    "        I[0][0]=0\n",
    "        result = np.linalg.inv(np.dot(X_train.T,X_train) + self.alpha * I ).dot(X_train.T).dot(y_train)\n",
    "        self.intercept_= result[0]\n",
    "        self.coef_ = result[1:]\n",
    "        \n",
    "    \n",
    "    def predict(self,X_test):\n",
    "        return np.dot(X_test,self.coef_) + self.intercept_"
   ]
  },
  {
   "cell_type": "code",
   "execution_count": 23,
   "id": "4e973e90",
   "metadata": {},
   "outputs": [
    {
     "data": {
      "text/plain": [
       "array([[ 1.        , -0.00188202, -0.04464164, ..., -0.03949338,\n",
       "        -0.06291295,  0.04034337],\n",
       "       [ 1.        , -0.00914709, -0.04464164, ..., -0.03949338,\n",
       "         0.01703713, -0.0052198 ],\n",
       "       [ 1.        ,  0.02354575,  0.05068012, ..., -0.03949338,\n",
       "        -0.09643322, -0.01764613],\n",
       "       ...,\n",
       "       [ 1.        ,  0.06350368,  0.05068012, ..., -0.00259226,\n",
       "         0.08449528, -0.01764613],\n",
       "       [ 1.        , -0.05273755,  0.05068012, ...,  0.1081111 ,\n",
       "         0.03605579, -0.04249877],\n",
       "       [ 1.        ,  0.00175052,  0.05068012, ...,  0.1081111 ,\n",
       "         0.06898221,  0.12732762]])"
      ]
     },
     "execution_count": 23,
     "metadata": {},
     "output_type": "execute_result"
    }
   ],
   "source": [
    "np.insert(X_train,0,1,axis= 1)"
   ]
  },
  {
   "cell_type": "code",
   "execution_count": 24,
   "id": "3e94db93",
   "metadata": {},
   "outputs": [
    {
     "name": "stdout",
     "output_type": "stream",
     "text": [
      "r2_score =  0.4519973816947853\n",
      "[   6.64275308 -172.24216584  485.52387163  314.68212174  -72.93932312\n",
      "  -80.59005344 -174.46651489   83.61665316  484.36328537   73.58415414]\n",
      "151.92548050708137\n"
     ]
    }
   ],
   "source": [
    "ridge_reg = Ridge_regularization()\n",
    "ridge_reg.fit(X_train,y_train)\n",
    "y_pred = ridge_reg.predict(X_test)\n",
    "print(\"r2_score = \",r2_score(y_test,y_pred))\n",
    "print(ridge_reg.coef_)\n",
    "print(ridge_reg.intercept_)"
   ]
  },
  {
   "cell_type": "code",
   "execution_count": null,
   "id": "a7685faf",
   "metadata": {},
   "outputs": [],
   "source": []
  },
  {
   "cell_type": "code",
   "execution_count": null,
   "id": "90ca805c",
   "metadata": {},
   "outputs": [],
   "source": []
  }
 ],
 "metadata": {
  "kernelspec": {
   "display_name": "Python 3 (ipykernel)",
   "language": "python",
   "name": "python3"
  },
  "language_info": {
   "codemirror_mode": {
    "name": "ipython",
    "version": 3
   },
   "file_extension": ".py",
   "mimetype": "text/x-python",
   "name": "python",
   "nbconvert_exporter": "python",
   "pygments_lexer": "ipython3",
   "version": "3.9.13"
  }
 },
 "nbformat": 4,
 "nbformat_minor": 5
}
