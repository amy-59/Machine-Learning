{
 "cells": [
  {
   "cell_type": "markdown",
   "id": "51d5c28c",
   "metadata": {},
   "source": [
    "<h1 align= 'center'> Elastic Net </h1>"
   ]
  },
  {
   "cell_type": "code",
   "execution_count": 1,
   "id": "50b4fb8d",
   "metadata": {},
   "outputs": [],
   "source": [
    "import pandas as pd\n",
    "import numpy as np\n",
    "import matplotlib.pyplot as plt\n",
    "import seaborn as sns\n",
    "\n",
    "from sklearn.datasets import load_diabetes\n"
   ]
  },
  {
   "cell_type": "code",
   "execution_count": 2,
   "id": "5429c686",
   "metadata": {},
   "outputs": [],
   "source": [
    "X,y = load_diabetes(return_X_y=True)"
   ]
  },
  {
   "cell_type": "markdown",
   "id": "6f54d274",
   "metadata": {},
   "source": [
    "### Train Test Split"
   ]
  },
  {
   "cell_type": "code",
   "execution_count": 3,
   "id": "0595fb28",
   "metadata": {},
   "outputs": [],
   "source": [
    "from sklearn.model_selection import train_test_split"
   ]
  },
  {
   "cell_type": "code",
   "execution_count": 4,
   "id": "784fa3f7",
   "metadata": {},
   "outputs": [],
   "source": [
    "X_train,X_test, y_train, y_test = train_test_split(X,y, test_size=0.2, random_state=2)"
   ]
  },
  {
   "cell_type": "markdown",
   "id": "2206de76",
   "metadata": {},
   "source": [
    "### Linear Regression"
   ]
  },
  {
   "cell_type": "code",
   "execution_count": 5,
   "id": "e13406db",
   "metadata": {},
   "outputs": [],
   "source": [
    "from sklearn.linear_model import LinearRegression"
   ]
  },
  {
   "cell_type": "code",
   "execution_count": 7,
   "id": "b8d1d2cd",
   "metadata": {},
   "outputs": [],
   "source": [
    "lr = LinearRegression()\n",
    "lr.fit(X_train,y_train)\n",
    "y_pred = lr.predict(X_test)"
   ]
  },
  {
   "cell_type": "markdown",
   "id": "8fc5bc7c",
   "metadata": {},
   "source": [
    "#### Performance parameters"
   ]
  },
  {
   "cell_type": "code",
   "execution_count": 8,
   "id": "34d711f8",
   "metadata": {},
   "outputs": [],
   "source": [
    "from sklearn.metrics import r2_score"
   ]
  },
  {
   "cell_type": "code",
   "execution_count": 10,
   "id": "75e27dfd",
   "metadata": {},
   "outputs": [
    {
     "name": "stdout",
     "output_type": "stream",
     "text": [
      "r2_score =  0.4399387660024645\n",
      "\n",
      "Intercept =  151.88334520854633\n",
      "\n",
      "Coefficent =  [  -9.16088483 -205.46225988  516.68462383  340.62734108 -895.54360867\n",
      "  561.21453306  153.88478595  126.73431596  861.12139955   52.41982836]\n"
     ]
    }
   ],
   "source": [
    "print(\"r2_score = \", r2_score(y_test,y_pred))\n",
    "print(\"\\nIntercept = \", lr.intercept_)\n",
    "print(\"\\nCoefficent = \", lr.coef_)"
   ]
  },
  {
   "cell_type": "markdown",
   "id": "24c15769",
   "metadata": {},
   "source": [
    "### Ridge Regularisation"
   ]
  },
  {
   "cell_type": "code",
   "execution_count": 11,
   "id": "c415afae",
   "metadata": {},
   "outputs": [],
   "source": [
    "from sklearn.linear_model import Ridge"
   ]
  },
  {
   "cell_type": "code",
   "execution_count": 14,
   "id": "c83b3372",
   "metadata": {},
   "outputs": [
    {
     "name": "stdout",
     "output_type": "stream",
     "text": [
      "r2_score =  0.4519973816947851\n",
      "\n",
      "Intercept =  151.92548050708137\n",
      "\n",
      "Coefficent =  [   6.64275308 -172.24216584  485.52387163  314.68212174  -72.93932312\n",
      "  -80.59005344 -174.46651489   83.61665316  484.36328537   73.58415414]\n"
     ]
    }
   ],
   "source": [
    "ridge = Ridge(alpha=0.1)\n",
    "ridge.fit(X_train,y_train)\n",
    "y_pred1 = ridge.predict(X_test)\n",
    "\n",
    "print(\"r2_score = \", r2_score(y_test,y_pred1))\n",
    "print(\"\\nIntercept = \", ridge.intercept_)\n",
    "print(\"\\nCoefficent = \", ridge.coef_)"
   ]
  },
  {
   "cell_type": "markdown",
   "id": "3533e19f",
   "metadata": {},
   "source": [
    "### Lasso Regularization"
   ]
  },
  {
   "cell_type": "code",
   "execution_count": 13,
   "id": "e0150841",
   "metadata": {},
   "outputs": [],
   "source": [
    "from sklearn.linear_model import Lasso"
   ]
  },
  {
   "cell_type": "code",
   "execution_count": 15,
   "id": "4d00f75b",
   "metadata": {},
   "outputs": [
    {
     "name": "stdout",
     "output_type": "stream",
     "text": [
      "r2_score =  0.4411227990495632\n",
      "\n",
      "Intercept =  151.87688916358448\n",
      "\n",
      "Coefficent =  [  -1.361404   -192.9442258   526.34851118  332.64905805 -430.20549544\n",
      "  191.27787563  -44.0481133    68.99074735  688.38497566   47.93952847]\n"
     ]
    }
   ],
   "source": [
    "lasso = Lasso(alpha=0.01)\n",
    "lasso.fit(X_train,y_train)\n",
    "y_pred2 = lasso.predict(X_test)\n",
    "\n",
    "print(\"r2_score = \", r2_score(y_test,y_pred2))\n",
    "print(\"\\nIntercept = \", lasso.intercept_)\n",
    "print(\"\\nCoefficent = \",lasso.coef_)"
   ]
  },
  {
   "cell_type": "markdown",
   "id": "6a465f4e",
   "metadata": {},
   "source": [
    "### <font color='red'> Elastic Net Regularisation</font>"
   ]
  },
  {
   "cell_type": "code",
   "execution_count": 16,
   "id": "8027c696",
   "metadata": {},
   "outputs": [],
   "source": [
    "from sklearn.linear_model import ElasticNet"
   ]
  },
  {
   "cell_type": "code",
   "execution_count": 19,
   "id": "ab8eb419",
   "metadata": {},
   "outputs": [
    {
     "name": "stdout",
     "output_type": "stream",
     "text": [
      "r2_score =  0.4531493801165679\n",
      "\n",
      "Intercept =  151.92651072684774\n",
      "\n",
      "Coefficent =  [  12.9406495  -150.63558599  454.70518026  297.41673176  -40.62976416\n",
      "  -82.61385235 -175.7996359    88.7282972   438.79648074   81.84882136]\n"
     ]
    }
   ],
   "source": [
    "elastic_net = ElasticNet(alpha=0.005, l1_ratio= 0.9)\n",
    "elastic_net.fit(X_train,y_train)\n",
    "y_pred3 = elastic_net.predict(X_test)\n",
    "\n",
    "print(\"r2_score = \", r2_score(y_test,y_pred3))\n",
    "print(\"\\nIntercept = \", elastic_net.intercept_)\n",
    "print(\"\\nCoefficent = \", elastic_net.coef_)"
   ]
  },
  {
   "cell_type": "code",
   "execution_count": null,
   "id": "c8c3d765",
   "metadata": {},
   "outputs": [],
   "source": []
  },
  {
   "cell_type": "code",
   "execution_count": null,
   "id": "7509ac7a",
   "metadata": {},
   "outputs": [],
   "source": []
  }
 ],
 "metadata": {
  "kernelspec": {
   "display_name": "Python 3 (ipykernel)",
   "language": "python",
   "name": "python3"
  },
  "language_info": {
   "codemirror_mode": {
    "name": "ipython",
    "version": 3
   },
   "file_extension": ".py",
   "mimetype": "text/x-python",
   "name": "python",
   "nbconvert_exporter": "python",
   "pygments_lexer": "ipython3",
   "version": "3.9.13"
  }
 },
 "nbformat": 4,
 "nbformat_minor": 5
}
