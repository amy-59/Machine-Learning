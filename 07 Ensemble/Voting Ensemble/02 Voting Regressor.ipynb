{
 "cells": [
  {
   "cell_type": "markdown",
   "id": "b3c203cf",
   "metadata": {},
   "source": [
    "<h1 align ='center'> Voting Regressor </h1>"
   ]
  },
  {
   "cell_type": "code",
   "execution_count": 1,
   "id": "88d16f24",
   "metadata": {},
   "outputs": [],
   "source": [
    "import pandas as pd\n",
    "import numpy as np\n",
    "import seaborn as sns\n",
    "import matplotlib.pyplot as plt\n",
    "from sklearn.datasets import load_boston"
   ]
  },
  {
   "cell_type": "code",
   "execution_count": 2,
   "id": "2d7da42a",
   "metadata": {},
   "outputs": [
    {
     "name": "stderr",
     "output_type": "stream",
     "text": [
      "C:\\Users\\Amruta\\anaconda3\\lib\\site-packages\\sklearn\\utils\\deprecation.py:87: FutureWarning: Function load_boston is deprecated; `load_boston` is deprecated in 1.0 and will be removed in 1.2.\n",
      "\n",
      "    The Boston housing prices dataset has an ethical problem. You can refer to\n",
      "    the documentation of this function for further details.\n",
      "\n",
      "    The scikit-learn maintainers therefore strongly discourage the use of this\n",
      "    dataset unless the purpose of the code is to study and educate about\n",
      "    ethical issues in data science and machine learning.\n",
      "\n",
      "    In this special case, you can fetch the dataset from the original\n",
      "    source::\n",
      "\n",
      "        import pandas as pd\n",
      "        import numpy as np\n",
      "\n",
      "\n",
      "        data_url = \"http://lib.stat.cmu.edu/datasets/boston\"\n",
      "        raw_df = pd.read_csv(data_url, sep=\"\\s+\", skiprows=22, header=None)\n",
      "        data = np.hstack([raw_df.values[::2, :], raw_df.values[1::2, :2]])\n",
      "        target = raw_df.values[1::2, 2]\n",
      "\n",
      "    Alternative datasets include the California housing dataset (i.e.\n",
      "    :func:`~sklearn.datasets.fetch_california_housing`) and the Ames housing\n",
      "    dataset. You can load the datasets as follows::\n",
      "\n",
      "        from sklearn.datasets import fetch_california_housing\n",
      "        housing = fetch_california_housing()\n",
      "\n",
      "    for the California housing dataset and::\n",
      "\n",
      "        from sklearn.datasets import fetch_openml\n",
      "        housing = fetch_openml(name=\"house_prices\", as_frame=True)\n",
      "\n",
      "    for the Ames housing dataset.\n",
      "    \n",
      "  warnings.warn(msg, category=FutureWarning)\n"
     ]
    }
   ],
   "source": [
    "X,y = load_boston(return_X_y=True)"
   ]
  },
  {
   "cell_type": "code",
   "execution_count": 3,
   "id": "ccee8402",
   "metadata": {},
   "outputs": [
    {
     "data": {
      "text/plain": [
       "(506, 13)"
      ]
     },
     "execution_count": 3,
     "metadata": {},
     "output_type": "execute_result"
    }
   ],
   "source": [
    "X.shape"
   ]
  },
  {
   "cell_type": "code",
   "execution_count": 4,
   "id": "8846b78b",
   "metadata": {},
   "outputs": [
    {
     "data": {
      "text/plain": [
       "(506,)"
      ]
     },
     "execution_count": 4,
     "metadata": {},
     "output_type": "execute_result"
    }
   ],
   "source": [
    "y.shape"
   ]
  },
  {
   "cell_type": "code",
   "execution_count": 5,
   "id": "35a445bc",
   "metadata": {},
   "outputs": [
    {
     "data": {
      "text/plain": [
       "array([[6.3200e-03, 1.8000e+01, 2.3100e+00, ..., 1.5300e+01, 3.9690e+02,\n",
       "        4.9800e+00],\n",
       "       [2.7310e-02, 0.0000e+00, 7.0700e+00, ..., 1.7800e+01, 3.9690e+02,\n",
       "        9.1400e+00],\n",
       "       [2.7290e-02, 0.0000e+00, 7.0700e+00, ..., 1.7800e+01, 3.9283e+02,\n",
       "        4.0300e+00],\n",
       "       ...,\n",
       "       [6.0760e-02, 0.0000e+00, 1.1930e+01, ..., 2.1000e+01, 3.9690e+02,\n",
       "        5.6400e+00],\n",
       "       [1.0959e-01, 0.0000e+00, 1.1930e+01, ..., 2.1000e+01, 3.9345e+02,\n",
       "        6.4800e+00],\n",
       "       [4.7410e-02, 0.0000e+00, 1.1930e+01, ..., 2.1000e+01, 3.9690e+02,\n",
       "        7.8800e+00]])"
      ]
     },
     "execution_count": 5,
     "metadata": {},
     "output_type": "execute_result"
    }
   ],
   "source": [
    "X"
   ]
  },
  {
   "cell_type": "markdown",
   "id": "56f67289",
   "metadata": {},
   "source": [
    "### Base Algorithm"
   ]
  },
  {
   "cell_type": "code",
   "execution_count": 6,
   "id": "fe371668",
   "metadata": {},
   "outputs": [],
   "source": [
    "from sklearn.linear_model import LinearRegression\n",
    "from sklearn.tree import DecisionTreeRegressor\n",
    "from sklearn.svm import SVR\n",
    "from sklearn.model_selection import cross_val_score"
   ]
  },
  {
   "cell_type": "code",
   "execution_count": 7,
   "id": "271e4dd4",
   "metadata": {},
   "outputs": [],
   "source": [
    "lr = LinearRegression()\n",
    "dt = DecisionTreeRegressor()\n",
    "svr = SVR()"
   ]
  },
  {
   "cell_type": "code",
   "execution_count": 8,
   "id": "0ceaee3b",
   "metadata": {},
   "outputs": [],
   "source": [
    "estimators = [('lr',lr),('dt',dt),('svr',svr)]"
   ]
  },
  {
   "cell_type": "code",
   "execution_count": 10,
   "id": "44fb6c7e",
   "metadata": {},
   "outputs": [
    {
     "name": "stdout",
     "output_type": "stream",
     "text": [
      "lr 0.2\n",
      "dt -0.06\n",
      "svr -0.41\n"
     ]
    }
   ],
   "source": [
    "for estimator in estimators:\n",
    "    score = cross_val_score(estimator[1],X,y,scoring='r2',cv=10)\n",
    "    print(estimator[0],np.round(np.mean(score),2))"
   ]
  },
  {
   "cell_type": "markdown",
   "id": "5eebc4b2",
   "metadata": {},
   "source": [
    "### <font color='blue'> Voting Regressor </font>"
   ]
  },
  {
   "cell_type": "code",
   "execution_count": 11,
   "id": "d88c63b2",
   "metadata": {},
   "outputs": [],
   "source": [
    "from sklearn.ensemble import VotingRegressor"
   ]
  },
  {
   "cell_type": "code",
   "execution_count": 12,
   "id": "1cb6c3ee",
   "metadata": {},
   "outputs": [
    {
     "name": "stdout",
     "output_type": "stream",
     "text": [
      "Voting Regressor 0.42\n"
     ]
    }
   ],
   "source": [
    "vr =VotingRegressor(estimators)\n",
    "scores = cross_val_score(vr, X,y, scoring='r2',cv=10)\n",
    "print('Voting Regressor',np.round(np.mean(scores),2))"
   ]
  },
  {
   "cell_type": "markdown",
   "id": "c1773aea",
   "metadata": {},
   "source": [
    "### Assigning Weight to Models "
   ]
  },
  {
   "cell_type": "code",
   "execution_count": 14,
   "id": "57b4bf18",
   "metadata": {},
   "outputs": [
    {
     "name": "stdout",
     "output_type": "stream",
     "text": [
      "for i =1,j=1,k=1 0.43\n",
      "for i =1,j=1,k=2 0.35\n",
      "for i =1,j=1,k=3 0.26\n",
      "for i =1,j=2,k=1 0.38\n",
      "for i =1,j=2,k=2 0.41\n",
      "for i =1,j=2,k=3 0.28\n",
      "for i =1,j=3,k=1 0.33\n",
      "for i =1,j=3,k=2 0.39\n",
      "for i =1,j=3,k=3 0.35\n",
      "for i =2,j=1,k=1 0.46\n",
      "for i =2,j=1,k=2 0.35\n",
      "for i =2,j=1,k=3 0.23\n",
      "for i =2,j=2,k=1 0.39\n",
      "for i =2,j=2,k=2 0.33\n",
      "for i =2,j=2,k=3 0.34\n",
      "for i =2,j=3,k=1 0.3\n",
      "for i =2,j=3,k=2 0.35\n",
      "for i =2,j=3,k=3 0.36\n",
      "for i =3,j=1,k=1 0.43\n",
      "for i =3,j=1,k=2 0.36\n",
      "for i =3,j=1,k=3 0.26\n",
      "for i =3,j=2,k=1 0.44\n",
      "for i =3,j=2,k=2 0.39\n",
      "for i =3,j=2,k=3 0.29\n",
      "for i =3,j=3,k=1 0.25\n",
      "for i =3,j=3,k=2 0.39\n",
      "for i =3,j=3,k=3 0.37\n"
     ]
    }
   ],
   "source": [
    "for i in range(1,4):\n",
    "    for j in range(1,4):\n",
    "        for k in range(1,4):\n",
    "            vr =VotingRegressor(estimators=estimators, weights=[1,j,k])\n",
    "            scores = cross_val_score(vr, X,y, scoring='r2',cv=10)\n",
    "            print('for i ={},j={},k={}'.format(i,j,k),np.round(np.mean(scores),2))\n",
    "            "
   ]
  },
  {
   "cell_type": "markdown",
   "id": "5ab7beab",
   "metadata": {},
   "source": [
    "- Here by assigning Weights we can for i =2,j=1,k=1 0.46 cross val score upto 0.46"
   ]
  },
  {
   "cell_type": "markdown",
   "id": "e2b561e8",
   "metadata": {},
   "source": [
    "### Same Model with diffrent Hyperparameter"
   ]
  },
  {
   "cell_type": "code",
   "execution_count": 15,
   "id": "44504185",
   "metadata": {},
   "outputs": [],
   "source": [
    "dt1 = DecisionTreeRegressor(max_depth=1)\n",
    "dt2 = DecisionTreeRegressor(max_depth=3)\n",
    "dt3 = DecisionTreeRegressor(max_depth=5)\n",
    "dt4 = DecisionTreeRegressor(max_depth=7)\n",
    "dt5 = DecisionTreeRegressor(max_depth=None)"
   ]
  },
  {
   "cell_type": "code",
   "execution_count": 16,
   "id": "1ff298aa",
   "metadata": {},
   "outputs": [],
   "source": [
    "estimators = [('dt1',dt1),('dt2',dt2),('dt3',dt3),('dt4',dt4),('dt5',dt5)]"
   ]
  },
  {
   "cell_type": "code",
   "execution_count": 17,
   "id": "81a55746",
   "metadata": {},
   "outputs": [
    {
     "name": "stdout",
     "output_type": "stream",
     "text": [
      "dt1 -0.85\n",
      "dt2 -0.11\n",
      "dt3 0.07\n",
      "dt4 0.02\n",
      "dt5 -0.14\n"
     ]
    }
   ],
   "source": [
    "for estimator in estimators:\n",
    "    score = cross_val_score(estimator[1],X,y,scoring='r2',cv=10)\n",
    "    print(estimator[0],np.round(np.mean(score),2))"
   ]
  },
  {
   "cell_type": "code",
   "execution_count": 18,
   "id": "e124a4d1",
   "metadata": {},
   "outputs": [
    {
     "name": "stdout",
     "output_type": "stream",
     "text": [
      "Voting Regressor 0.18\n"
     ]
    }
   ],
   "source": [
    "vr =VotingRegressor(estimators)\n",
    "scores = cross_val_score(vr, X,y, scoring='r2',cv=10)\n",
    "print('Voting Regressor',np.round(np.mean(scores),2))"
   ]
  },
  {
   "cell_type": "code",
   "execution_count": null,
   "id": "2dce7114",
   "metadata": {},
   "outputs": [],
   "source": []
  }
 ],
 "metadata": {
  "kernelspec": {
   "display_name": "Python 3 (ipykernel)",
   "language": "python",
   "name": "python3"
  },
  "language_info": {
   "codemirror_mode": {
    "name": "ipython",
    "version": 3
   },
   "file_extension": ".py",
   "mimetype": "text/x-python",
   "name": "python",
   "nbconvert_exporter": "python",
   "pygments_lexer": "ipython3",
   "version": "3.9.13"
  }
 },
 "nbformat": 4,
 "nbformat_minor": 5
}
