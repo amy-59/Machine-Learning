{
 "cells": [
  {
   "cell_type": "markdown",
   "id": "16eab229",
   "metadata": {},
   "source": [
    "<h1 align = 'center'> Polynomial regression </h1>"
   ]
  },
  {
   "cell_type": "code",
   "execution_count": 1,
   "id": "db455653",
   "metadata": {},
   "outputs": [],
   "source": [
    "import pandas as pd\n",
    "import numpy as np\n",
    "import seaborn as sns\n",
    "import matplotlib.pyplot as plt"
   ]
  },
  {
   "cell_type": "markdown",
   "id": "29447b83",
   "metadata": {},
   "source": [
    "### Generate Data"
   ]
  },
  {
   "cell_type": "code",
   "execution_count": 2,
   "id": "21f579ba",
   "metadata": {},
   "outputs": [],
   "source": [
    "X = 6 * np.random.rand(200,1) - 3\n",
    "y = 0.8 * X**2 + 0.9 *X + 2 + np.random.rand(200,1) #0.8X^2 + 0.9^X  + 2\n"
   ]
  },
  {
   "cell_type": "code",
   "execution_count": 3,
   "id": "d473ca4e",
   "metadata": {},
   "outputs": [
    {
     "data": {
      "text/plain": [
       "array([[ 1.97331368],\n",
       "       [ 2.46892148],\n",
       "       [ 2.4429361 ],\n",
       "       [-1.92697669],\n",
       "       [ 1.55575942],\n",
       "       [ 1.00364292],\n",
       "       [-0.92291021],\n",
       "       [-1.64508993],\n",
       "       [-0.6456832 ],\n",
       "       [-0.43114808],\n",
       "       [-1.57543001],\n",
       "       [-2.38210574],\n",
       "       [ 2.13416762],\n",
       "       [ 1.50951205],\n",
       "       [-1.16929207],\n",
       "       [-2.21817089],\n",
       "       [-0.09689175],\n",
       "       [-2.05333285],\n",
       "       [ 2.21041027],\n",
       "       [-1.79449034],\n",
       "       [ 2.73272696],\n",
       "       [ 0.59363233],\n",
       "       [-0.79280821],\n",
       "       [ 2.48346499],\n",
       "       [-1.23346052],\n",
       "       [-0.45937263],\n",
       "       [-0.9275821 ],\n",
       "       [-2.98046449],\n",
       "       [ 1.00883794],\n",
       "       [ 2.47010901],\n",
       "       [ 0.5328419 ],\n",
       "       [ 2.48281347],\n",
       "       [ 1.52699804],\n",
       "       [ 2.75776927],\n",
       "       [-0.38093122],\n",
       "       [ 0.2441539 ],\n",
       "       [ 1.17778811],\n",
       "       [-0.03772438],\n",
       "       [ 1.96263507],\n",
       "       [-0.99360605],\n",
       "       [-0.91790325],\n",
       "       [-2.81466243],\n",
       "       [ 2.62800582],\n",
       "       [ 0.70223473],\n",
       "       [-0.22638877],\n",
       "       [-0.17112249],\n",
       "       [-2.44202093],\n",
       "       [ 2.13456397],\n",
       "       [-0.80868156],\n",
       "       [-0.15484682],\n",
       "       [-1.8652506 ],\n",
       "       [ 2.10175446],\n",
       "       [ 1.90380792],\n",
       "       [ 1.63374011],\n",
       "       [-2.00209133],\n",
       "       [-2.92665917],\n",
       "       [ 1.4423863 ],\n",
       "       [ 0.45712135],\n",
       "       [ 2.49087816],\n",
       "       [-1.31508684],\n",
       "       [-2.71586186],\n",
       "       [-1.89437294],\n",
       "       [ 1.41141724],\n",
       "       [ 2.42424627],\n",
       "       [ 1.6927184 ],\n",
       "       [ 1.32689512],\n",
       "       [ 1.24608036],\n",
       "       [-1.78556884],\n",
       "       [ 2.22820798],\n",
       "       [ 1.19845267],\n",
       "       [-0.27616552],\n",
       "       [-0.81814407],\n",
       "       [ 1.6477287 ],\n",
       "       [-1.68422335],\n",
       "       [-1.25813816],\n",
       "       [-2.76250447],\n",
       "       [ 0.63373734],\n",
       "       [ 0.40990389],\n",
       "       [-0.04505059],\n",
       "       [-1.69940945],\n",
       "       [ 0.36593982],\n",
       "       [ 2.67430726],\n",
       "       [-0.47640248],\n",
       "       [-2.20496267],\n",
       "       [-0.04924764],\n",
       "       [ 1.11101205],\n",
       "       [-1.29624165],\n",
       "       [-0.1461571 ],\n",
       "       [-1.65250625],\n",
       "       [-1.77357352],\n",
       "       [ 1.49674714],\n",
       "       [ 2.59419044],\n",
       "       [-0.52920703],\n",
       "       [ 0.76515268],\n",
       "       [ 1.3823787 ],\n",
       "       [ 2.4964449 ],\n",
       "       [-0.23106103],\n",
       "       [ 1.84729197],\n",
       "       [-0.26385997],\n",
       "       [-2.87772768],\n",
       "       [-1.66793052],\n",
       "       [ 1.01443464],\n",
       "       [-0.5103499 ],\n",
       "       [ 0.70812066],\n",
       "       [-1.84321402],\n",
       "       [-2.78370618],\n",
       "       [-1.38598527],\n",
       "       [-0.19158408],\n",
       "       [ 1.79064884],\n",
       "       [-0.67152591],\n",
       "       [-1.3200684 ],\n",
       "       [ 2.41386516],\n",
       "       [-1.26198983],\n",
       "       [-1.23438543],\n",
       "       [-1.50742958],\n",
       "       [-2.68628227],\n",
       "       [ 0.04742106],\n",
       "       [-0.58331776],\n",
       "       [ 1.19978141],\n",
       "       [ 0.72777677],\n",
       "       [-0.17739428],\n",
       "       [ 1.27392426],\n",
       "       [-0.81239024],\n",
       "       [-2.45314194],\n",
       "       [ 1.77278135],\n",
       "       [-1.45281018],\n",
       "       [-1.90639356],\n",
       "       [-2.78776268],\n",
       "       [ 2.87076923],\n",
       "       [ 1.76328973],\n",
       "       [ 1.97112025],\n",
       "       [ 2.92167003],\n",
       "       [-1.70418266],\n",
       "       [-2.87894418],\n",
       "       [ 2.9249387 ],\n",
       "       [ 1.55345819],\n",
       "       [ 1.32273047],\n",
       "       [ 1.88208846],\n",
       "       [ 0.45466935],\n",
       "       [ 2.95198193],\n",
       "       [ 1.10130847],\n",
       "       [-2.80596271],\n",
       "       [ 0.40738882],\n",
       "       [-2.81384318],\n",
       "       [-2.30504797],\n",
       "       [-0.60282224],\n",
       "       [ 2.04973402],\n",
       "       [ 0.13649313],\n",
       "       [ 0.1366905 ],\n",
       "       [ 0.69283777],\n",
       "       [-0.44173766],\n",
       "       [-1.52616728],\n",
       "       [-1.66947274],\n",
       "       [-2.07305589],\n",
       "       [ 1.76289859],\n",
       "       [ 1.40964684],\n",
       "       [ 1.53476202],\n",
       "       [-2.45767375],\n",
       "       [ 0.78573915],\n",
       "       [-0.32985918],\n",
       "       [-0.90134544],\n",
       "       [ 0.08593436],\n",
       "       [ 2.21218719],\n",
       "       [ 1.66062085],\n",
       "       [ 0.21438776],\n",
       "       [ 0.66742201],\n",
       "       [-1.16624729],\n",
       "       [-0.927789  ],\n",
       "       [-1.24047927],\n",
       "       [-2.74637846],\n",
       "       [-0.07105919],\n",
       "       [ 1.85668679],\n",
       "       [-2.22862551],\n",
       "       [ 1.64755319],\n",
       "       [-1.50997099],\n",
       "       [ 1.34762014],\n",
       "       [ 0.601028  ],\n",
       "       [ 0.70179607],\n",
       "       [ 2.11181551],\n",
       "       [ 0.70050203],\n",
       "       [-2.76275661],\n",
       "       [-0.37666653],\n",
       "       [ 0.84929286],\n",
       "       [-1.57151442],\n",
       "       [ 1.12693832],\n",
       "       [-0.09420247],\n",
       "       [ 1.63566254],\n",
       "       [ 1.88700183],\n",
       "       [ 1.82834506],\n",
       "       [-0.17233125],\n",
       "       [ 1.23368581],\n",
       "       [-0.05564077],\n",
       "       [ 2.01561932],\n",
       "       [-0.26301196],\n",
       "       [ 1.07248637],\n",
       "       [-2.49248713],\n",
       "       [-1.69267922],\n",
       "       [ 1.15398743],\n",
       "       [-1.8699099 ],\n",
       "       [ 0.70711091]])"
      ]
     },
     "execution_count": 3,
     "metadata": {},
     "output_type": "execute_result"
    }
   ],
   "source": [
    "X"
   ]
  },
  {
   "cell_type": "code",
   "execution_count": 4,
   "id": "fffb9563",
   "metadata": {},
   "outputs": [
    {
     "data": {
      "text/plain": [
       "array([[ 7.5212426 ],\n",
       "       [ 9.58182572],\n",
       "       [ 9.02853269],\n",
       "       [ 4.01500996],\n",
       "       [ 5.76213736],\n",
       "       [ 4.31293183],\n",
       "       [ 2.01396247],\n",
       "       [ 2.95764298],\n",
       "       [ 2.62633445],\n",
       "       [ 2.0394639 ],\n",
       "       [ 2.62254028],\n",
       "       [ 4.82337959],\n",
       "       [ 8.37275313],\n",
       "       [ 5.80483235],\n",
       "       [ 2.48143982],\n",
       "       [ 4.56018463],\n",
       "       [ 2.23162379],\n",
       "       [ 4.40866614],\n",
       "       [ 8.77168894],\n",
       "       [ 3.93625083],\n",
       "       [10.97421836],\n",
       "       [ 3.44638776],\n",
       "       [ 1.80172943],\n",
       "       [ 9.5077661 ],\n",
       "       [ 2.75363415],\n",
       "       [ 2.2220558 ],\n",
       "       [ 2.12242235],\n",
       "       [ 6.93359029],\n",
       "       [ 4.35986047],\n",
       "       [ 9.76264565],\n",
       "       [ 3.56804992],\n",
       "       [ 9.18354055],\n",
       "       [ 5.83011819],\n",
       "       [10.68958045],\n",
       "       [ 2.3325081 ],\n",
       "       [ 3.23259619],\n",
       "       [ 4.44213475],\n",
       "       [ 2.70775903],\n",
       "       [ 7.11481706],\n",
       "       [ 2.69793276],\n",
       "       [ 2.21441201],\n",
       "       [ 6.09902104],\n",
       "       [10.23478186],\n",
       "       [ 3.46295876],\n",
       "       [ 2.02020737],\n",
       "       [ 2.75303811],\n",
       "       [ 5.520682  ],\n",
       "       [ 8.42050847],\n",
       "       [ 2.26382216],\n",
       "       [ 2.122816  ],\n",
       "       [ 3.88468644],\n",
       "       [ 8.03388852],\n",
       "       [ 7.20392058],\n",
       "       [ 5.91775724],\n",
       "       [ 3.62701335],\n",
       "       [ 6.97468233],\n",
       "       [ 5.62163608],\n",
       "       [ 2.78934599],\n",
       "       [ 9.54790125],\n",
       "       [ 2.97894926],\n",
       "       [ 6.24977809],\n",
       "       [ 4.02043476],\n",
       "       [ 5.15843194],\n",
       "       [ 9.23885817],\n",
       "       [ 5.83503324],\n",
       "       [ 5.29462428],\n",
       "       [ 5.3627161 ],\n",
       "       [ 3.67186897],\n",
       "       [ 8.77141428],\n",
       "       [ 4.83506117],\n",
       "       [ 1.84525582],\n",
       "       [ 2.0770625 ],\n",
       "       [ 5.89356322],\n",
       "       [ 3.17080305],\n",
       "       [ 2.65229267],\n",
       "       [ 5.838711  ],\n",
       "       [ 2.97155347],\n",
       "       [ 3.30648513],\n",
       "       [ 2.459493  ],\n",
       "       [ 3.65138355],\n",
       "       [ 2.715643  ],\n",
       "       [10.29066109],\n",
       "       [ 2.40618184],\n",
       "       [ 4.73122146],\n",
       "       [ 2.10700245],\n",
       "       [ 4.37547726],\n",
       "       [ 2.39836595],\n",
       "       [ 2.19889747],\n",
       "       [ 3.54341239],\n",
       "       [ 3.47729236],\n",
       "       [ 6.08763954],\n",
       "       [10.42165373],\n",
       "       [ 1.98831268],\n",
       "       [ 3.43235391],\n",
       "       [ 5.58343857],\n",
       "       [ 9.88418415],\n",
       "       [ 2.8273778 ],\n",
       "       [ 6.9872653 ],\n",
       "       [ 1.84445056],\n",
       "       [ 6.89312969],\n",
       "       [ 3.44893026],\n",
       "       [ 4.25312639],\n",
       "       [ 1.80265358],\n",
       "       [ 3.84297528],\n",
       "       [ 3.88632095],\n",
       "       [ 6.00304531],\n",
       "       [ 3.2010035 ],\n",
       "       [ 2.2153109 ],\n",
       "       [ 6.55110077],\n",
       "       [ 2.56135945],\n",
       "       [ 3.09018531],\n",
       "       [ 9.22968921],\n",
       "       [ 2.96718445],\n",
       "       [ 2.9206019 ],\n",
       "       [ 3.30161741],\n",
       "       [ 5.37892935],\n",
       "       [ 2.86038294],\n",
       "       [ 2.09016151],\n",
       "       [ 4.45211268],\n",
       "       [ 3.72792593],\n",
       "       [ 2.71419003],\n",
       "       [ 4.94636833],\n",
       "       [ 1.81566189],\n",
       "       [ 4.86069035],\n",
       "       [ 6.46057659],\n",
       "       [ 3.09326835],\n",
       "       [ 3.94205363],\n",
       "       [ 6.17089167],\n",
       "       [11.73833304],\n",
       "       [ 6.52272393],\n",
       "       [ 7.82948425],\n",
       "       [12.00098602],\n",
       "       [ 3.09677787],\n",
       "       [ 6.55240066],\n",
       "       [11.99156119],\n",
       "       [ 5.8371213 ],\n",
       "       [ 5.26302048],\n",
       "       [ 7.04024897],\n",
       "       [ 3.56825152],\n",
       "       [12.54519033],\n",
       "       [ 4.02709987],\n",
       "       [ 6.59971817],\n",
       "       [ 2.5976796 ],\n",
       "       [ 6.54028786],\n",
       "       [ 4.52543681],\n",
       "       [ 1.80792553],\n",
       "       [ 7.82094374],\n",
       "       [ 2.1492473 ],\n",
       "       [ 2.74825038],\n",
       "       [ 3.0698102 ],\n",
       "       [ 1.7741219 ],\n",
       "       [ 2.97205393],\n",
       "       [ 3.69178642],\n",
       "       [ 3.75715458],\n",
       "       [ 6.31369984],\n",
       "       [ 5.58749827],\n",
       "       [ 5.40837608],\n",
       "       [ 5.27790212],\n",
       "       [ 3.21619107],\n",
       "       [ 2.42595985],\n",
       "       [ 2.37361307],\n",
       "       [ 2.42294271],\n",
       "       [ 8.79770946],\n",
       "       [ 6.51146779],\n",
       "       [ 2.5267467 ],\n",
       "       [ 3.72607631],\n",
       "       [ 2.20251021],\n",
       "       [ 2.7242516 ],\n",
       "       [ 2.52957863],\n",
       "       [ 5.91428044],\n",
       "       [ 2.08520994],\n",
       "       [ 6.67405295],\n",
       "       [ 4.37540534],\n",
       "       [ 6.00599574],\n",
       "       [ 3.0500496 ],\n",
       "       [ 4.94250846],\n",
       "       [ 3.34117224],\n",
       "       [ 3.95286049],\n",
       "       [ 8.27226302],\n",
       "       [ 3.26987779],\n",
       "       [ 6.23253891],\n",
       "       [ 2.37818984],\n",
       "       [ 3.83804741],\n",
       "       [ 3.11686532],\n",
       "       [ 4.63220835],\n",
       "       [ 1.9695581 ],\n",
       "       [ 5.84301135],\n",
       "       [ 7.12512267],\n",
       "       [ 6.65515599],\n",
       "       [ 1.88184991],\n",
       "       [ 4.60998895],\n",
       "       [ 2.53606252],\n",
       "       [ 7.17156257],\n",
       "       [ 2.26174738],\n",
       "       [ 4.17616351],\n",
       "       [ 5.51479081],\n",
       "       [ 3.38240173],\n",
       "       [ 4.54063176],\n",
       "       [ 3.76349118],\n",
       "       [ 3.17512206]])"
      ]
     },
     "execution_count": 4,
     "metadata": {},
     "output_type": "execute_result"
    }
   ],
   "source": [
    "y"
   ]
  },
  {
   "cell_type": "code",
   "execution_count": 5,
   "id": "4b1ccaac",
   "metadata": {},
   "outputs": [
    {
     "data": {
      "image/png": "[encoded data removed]",
      "text/plain": [
       "<Figure size 640x480 with 1 Axes>"
      ]
     },
     "metadata": {},
     "output_type": "display_data"
    }
   ],
   "source": [
    "plt.plot(X,y,'b.')\n",
    "plt.xlabel('X')\n",
    "plt.ylabel('y')\n",
    "plt.show()"
   ]
  },
  {
   "cell_type": "markdown",
   "id": "c2644a5c",
   "metadata": {},
   "source": [
    "### Train test split"
   ]
  },
  {
   "cell_type": "code",
   "execution_count": 6,
   "id": "ee484010",
   "metadata": {},
   "outputs": [],
   "source": [
    "from sklearn.model_selection import train_test_split"
   ]
  },
  {
   "cell_type": "code",
   "execution_count": 7,
   "id": "e715c28f",
   "metadata": {},
   "outputs": [],
   "source": [
    "X_train,X_test,y_train, y_test = train_test_split(X,y,test_size=0.2, random_state=2)"
   ]
  },
  {
   "cell_type": "markdown",
   "id": "609c2f90",
   "metadata": {},
   "source": [
    "### Using Simple Linear Regression"
   ]
  },
  {
   "cell_type": "code",
   "execution_count": 8,
   "id": "982a0100",
   "metadata": {},
   "outputs": [],
   "source": [
    "from sklearn.linear_model import LinearRegression"
   ]
  },
  {
   "cell_type": "code",
   "execution_count": 9,
   "id": "6957424d",
   "metadata": {},
   "outputs": [],
   "source": [
    "lr = LinearRegression()"
   ]
  },
  {
   "cell_type": "code",
   "execution_count": 10,
   "id": "6e774b38",
   "metadata": {},
   "outputs": [],
   "source": [
    "lr.fit(X_train,y_train)\n",
    "y_pred = lr.predict(X_test)"
   ]
  },
  {
   "cell_type": "markdown",
   "id": "dc3168ba",
   "metadata": {},
   "source": [
    "### Performance metrics"
   ]
  },
  {
   "cell_type": "code",
   "execution_count": 11,
   "id": "01d057f0",
   "metadata": {},
   "outputs": [],
   "source": [
    "from sklearn.metrics import r2_score"
   ]
  },
  {
   "cell_type": "code",
   "execution_count": 12,
   "id": "2eeac735",
   "metadata": {},
   "outputs": [
    {
     "name": "stdout",
     "output_type": "stream",
     "text": [
      "r2_score of Linear Regression =  0.4277547543221162\n"
     ]
    }
   ],
   "source": [
    "print(\"r2_score of Linear Regression = \", r2_score(y_test,y_pred))"
   ]
  },
  {
   "cell_type": "markdown",
   "id": "e062a26e",
   "metadata": {},
   "source": [
    "### Visualisation of Linear Regression"
   ]
  },
  {
   "cell_type": "code",
   "execution_count": 13,
   "id": "0547c1b7",
   "metadata": {},
   "outputs": [
    {
     "data": {
      "image/png": "[encoded data removed]",
      "text/plain": [
       "<Figure size 640x480 with 1 Axes>"
      ]
     },
     "metadata": {},
     "output_type": "display_data"
    }
   ],
   "source": [
    "plt.plot(X_train,lr.predict(X_train),color='r')\n",
    "plt.plot(X,y,'b.')\n",
    "plt.xlabel('X')\n",
    "plt.ylabel('y')\n",
    "plt.show()"
   ]
  },
  {
   "cell_type": "markdown",
   "id": "632fc711",
   "metadata": {},
   "source": [
    "### Using Polynomial Linear Regression"
   ]
  },
  {
   "cell_type": "code",
   "execution_count": 14,
   "id": "7ff04adc",
   "metadata": {},
   "outputs": [],
   "source": [
    "from sklearn.preprocessing import StandardScaler, PolynomialFeatures"
   ]
  },
  {
   "cell_type": "markdown",
   "id": "09abd1cb",
   "metadata": {},
   "source": [
    "> __Data__ ----> __Ploynomial Tx__ ----> __Linear Regression__ ----> __Prediction__"
   ]
  },
  {
   "cell_type": "markdown",
   "id": "a117134b",
   "metadata": {},
   "source": [
    "#### For Degree 2"
   ]
  },
  {
   "cell_type": "code",
   "execution_count": 17,
   "id": "6a1b5c60",
   "metadata": {},
   "outputs": [],
   "source": [
    "poly = PolynomialFeatures(degree=2) # if we don't want to include bias set include_bias= False\n",
    "\n",
    "X_train_trans = poly.fit_transform(X_train)\n",
    "X_test_trans = poly.transform(X_test)\n"
   ]
  },
  {
   "cell_type": "code",
   "execution_count": 18,
   "id": "9429fd3f",
   "metadata": {},
   "outputs": [
    {
     "name": "stdout",
     "output_type": "stream",
     "text": [
      "[1.88208846]\n",
      "[1.         1.88208846 3.54225696]\n"
     ]
    }
   ],
   "source": [
    "print(X_train[0])\n",
    "print(X_train_trans[0])"
   ]
  },
  {
   "cell_type": "markdown",
   "id": "c8e1a4b7",
   "metadata": {},
   "source": [
    "### Model training"
   ]
  },
  {
   "cell_type": "code",
   "execution_count": 19,
   "id": "6088d12d",
   "metadata": {},
   "outputs": [],
   "source": [
    "model = LinearRegression()"
   ]
  },
  {
   "cell_type": "code",
   "execution_count": 20,
   "id": "a31ac49a",
   "metadata": {},
   "outputs": [
    {
     "data": {
      "text/plain": [
       "LinearRegression()"
      ]
     },
     "execution_count": 20,
     "metadata": {},
     "output_type": "execute_result"
    }
   ],
   "source": [
    "model.fit(X_train_trans,y_train)"
   ]
  },
  {
   "cell_type": "code",
   "execution_count": 22,
   "id": "f03a8c5f",
   "metadata": {},
   "outputs": [],
   "source": [
    "y_pred = model.predict(X_test_trans)"
   ]
  },
  {
   "cell_type": "code",
   "execution_count": 24,
   "id": "9337c079",
   "metadata": {},
   "outputs": [
    {
     "name": "stdout",
     "output_type": "stream",
     "text": [
      "r2_score for Polynoial Regression is =  0.9915215807806118\n"
     ]
    }
   ],
   "source": [
    "print('r2_score for Polynoial Regression is = ', r2_score(y_test,y_pred))"
   ]
  },
  {
   "cell_type": "code",
   "execution_count": 29,
   "id": "14b48b25",
   "metadata": {},
   "outputs": [
    {
     "name": "stdout",
     "output_type": "stream",
     "text": [
      "Coefieent =  [[0.         0.87868936 0.81378703]]\n",
      " Intercept =  [2.47278653]\n"
     ]
    }
   ],
   "source": [
    "print(\"Coefieent = \", model.coef_) ##0.8X^2 + 0.9^X  + 2\n",
    "print(\" Intercept = \", model.intercept_)  "
   ]
  },
  {
   "cell_type": "markdown",
   "id": "b52110e7",
   "metadata": {},
   "source": [
    "### Visualization of Polynomial Regression"
   ]
  },
  {
   "cell_type": "code",
   "execution_count": 31,
   "id": "e24ea2d9",
   "metadata": {},
   "outputs": [],
   "source": [
    "X_new = np.linspace(-3, 3,200).reshape(200,1)\n",
    "X_new_poly = poly.transform(X_new)\n",
    "y_new = model.predict(X_new_poly)"
   ]
  },
  {
   "cell_type": "code",
   "execution_count": 34,
   "id": "acb36b4e",
   "metadata": {},
   "outputs": [
    {
     "data": {
      "image/png": "[encoded data removed]",
      "text/plain": [
       "<Figure size 640x480 with 1 Axes>"
      ]
     },
     "metadata": {},
     "output_type": "display_data"
    }
   ],
   "source": [
    "plt.plot(X_new,y_new, \"r-\" ,linewidth=2, label =\"Prediction\")\n",
    "plt.plot(X_train,y_train,'b.', label=\"Training Points\")\n",
    "plt.plot(X_test,y_test,'g.', label=\"Testing Points\")\n",
    "plt.xlabel('X')\n",
    "plt.ylabel('y')\n",
    "plt.legend()\n",
    "plt.show()"
   ]
  },
  {
   "cell_type": "markdown",
   "id": "4c771c68",
   "metadata": {},
   "source": [
    "### Polynomial for N Degree"
   ]
  },
  {
   "cell_type": "code",
   "execution_count": 38,
   "id": "5dc8f74a",
   "metadata": {},
   "outputs": [],
   "source": [
    "from sklearn.pipeline import Pipeline "
   ]
  },
  {
   "cell_type": "code",
   "execution_count": 39,
   "id": "9c88edd3",
   "metadata": {},
   "outputs": [],
   "source": [
    "def Polynomial_regression(degree):\n",
    "    X_new = np.linspace(-3, 3,100).reshape(100,1)\n",
    "    X_new_poly = poly.transform(X_new)\n",
    "    polybig_feature = PolynomialFeatures(degree=degree, include_bias= False)\n",
    "    std_scalar = StandardScaler()\n",
    "    lin_reg = LinearRegression()\n",
    "    polynomial_regression = Pipeline([\n",
    "        (\"polybig_feature \",polybig_feature ),\n",
    "        (\"std_scalar\",std_scalar),\n",
    "        (\"lin_reg\",lin_reg),\n",
    "    ])\n",
    "    \n",
    "    polynomial_regression.fit(X,y)\n",
    "    y_new_big = Polynomial_regression.predict(X_new)\n",
    "    \n",
    "    plt.plot(X_new,y_new_big, \"r\" ,linewidth=2, label =\"Degree\" + str(degree))\n",
    "    plt.plot(X_train,y_train,'b.', linewidth =3)\n",
    "    plt.plot(X_test,y_test,'g.', linewidth=3)\n",
    "    plt.xlabel('X')\n",
    "    plt.ylabel('y')\n",
    "    plt.legend(loc='upper left')\n",
    "    plt.axis([-3,3,0,10])\n",
    "    plt.show()"
   ]
  },
  {
   "cell_type": "code",
   "execution_count": 40,
   "id": "8e86bc6a",
   "metadata": {},
   "outputs": [
    {
     "ename": "AttributeError",
     "evalue": "'function' object has no attribute 'predict'",
     "output_type": "error",
     "traceback": [
      "\u001b[1;31m---------------------------------------------------------------------------\u001b[0m",
      "\u001b[1;31mAttributeError\u001b[0m                            Traceback (most recent call last)",
      "\u001b[1;32m~\\AppData\\Local\\Temp\\ipykernel_16328\\1735155474.py\u001b[0m in \u001b[0;36m<module>\u001b[1;34m\u001b[0m\n\u001b[1;32m----> 1\u001b[1;33m \u001b[0mPolynomial_regression\u001b[0m\u001b[1;33m(\u001b[0m\u001b[1;36m55\u001b[0m\u001b[1;33m)\u001b[0m\u001b[1;33m\u001b[0m\u001b[1;33m\u001b[0m\u001b[0m\n\u001b[0m",
      "\u001b[1;32m~\\AppData\\Local\\Temp\\ipykernel_16328\\1050217396.py\u001b[0m in \u001b[0;36mPolynomial_regression\u001b[1;34m(degree)\u001b[0m\n\u001b[0;32m     12\u001b[0m \u001b[1;33m\u001b[0m\u001b[0m\n\u001b[0;32m     13\u001b[0m     \u001b[0mpolynomial_regression\u001b[0m\u001b[1;33m.\u001b[0m\u001b[0mfit\u001b[0m\u001b[1;33m(\u001b[0m\u001b[0mX\u001b[0m\u001b[1;33m,\u001b[0m\u001b[0my\u001b[0m\u001b[1;33m)\u001b[0m\u001b[1;33m\u001b[0m\u001b[1;33m\u001b[0m\u001b[0m\n\u001b[1;32m---> 14\u001b[1;33m     \u001b[0my_new_big\u001b[0m \u001b[1;33m=\u001b[0m \u001b[0mPolynomial_regression\u001b[0m\u001b[1;33m.\u001b[0m\u001b[0mpredict\u001b[0m\u001b[1;33m(\u001b[0m\u001b[0mX_new\u001b[0m\u001b[1;33m)\u001b[0m\u001b[1;33m\u001b[0m\u001b[1;33m\u001b[0m\u001b[0m\n\u001b[0m\u001b[0;32m     15\u001b[0m \u001b[1;33m\u001b[0m\u001b[0m\n\u001b[0;32m     16\u001b[0m     \u001b[0mplt\u001b[0m\u001b[1;33m.\u001b[0m\u001b[0mplot\u001b[0m\u001b[1;33m(\u001b[0m\u001b[0mX_new\u001b[0m\u001b[1;33m,\u001b[0m\u001b[0my_new_big\u001b[0m\u001b[1;33m,\u001b[0m \u001b[1;34m\"r\"\u001b[0m \u001b[1;33m,\u001b[0m\u001b[0mlinewidth\u001b[0m\u001b[1;33m=\u001b[0m\u001b[1;36m2\u001b[0m\u001b[1;33m,\u001b[0m \u001b[0mlabel\u001b[0m \u001b[1;33m=\u001b[0m\u001b[1;34m\"Degree\"\u001b[0m \u001b[1;33m+\u001b[0m \u001b[0mstr\u001b[0m\u001b[1;33m(\u001b[0m\u001b[0mdegree\u001b[0m\u001b[1;33m)\u001b[0m\u001b[1;33m)\u001b[0m\u001b[1;33m\u001b[0m\u001b[1;33m\u001b[0m\u001b[0m\n",
      "\u001b[1;31mAttributeError\u001b[0m: 'function' object has no attribute 'predict'"
     ]
    }
   ],
   "source": [
    "Polynomial_regression(55)"
   ]
  },
  {
   "cell_type": "code",
   "execution_count": null,
   "id": "03c90716",
   "metadata": {},
   "outputs": [],
   "source": []
  }
 ],
 "metadata": {
  "kernelspec": {
   "display_name": "Python 3 (ipykernel)",
   "language": "python",
   "name": "python3"
  },
  "language_info": {
   "codemirror_mode": {
    "name": "ipython",
    "version": 3
   },
   "file_extension": ".py",
   "mimetype": "text/x-python",
   "name": "python",
   "nbconvert_exporter": "python",
   "pygments_lexer": "ipython3",
   "version": "3.9.13"
  }
 },
 "nbformat": 4,
 "nbformat_minor": 5
}
